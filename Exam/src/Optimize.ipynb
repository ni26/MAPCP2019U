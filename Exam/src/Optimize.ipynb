{
 "cells": [
  {
   "cell_type": "code",
   "execution_count": 1,
   "metadata": {},
   "outputs": [
    {
     "name": "stdout",
     "output_type": "stream",
     "text": [
      "Optimization terminated successfully.\n",
      "         Current function value: 0.000000\n",
      "         Iterations: 55\n",
      "         Function evaluations: 103\n"
     ]
    }
   ],
   "source": [
    "import numpy as np\n",
    "def getCellCount(time,lamda,coef):\n",
    "    from numpy import exp\n",
    "    return 100000.0 * exp( lamda * ( 1.0 - exp( -coef * time ) ) )\n",
    "\n",
    "GetCellCount = np.vectorize(getCellCount)\n",
    "\n",
    "def getSumSquaredDiff(ParamVec):\n",
    "    import numpy as np\n",
    "    TimeVec = np.double([ 0.0, 10.0, 12.0, 14.0, 16.0, 18.0, 20.0, 22.0 ])\n",
    "    CellVec = np.double([ 10000.0, 20000.0, 30000.0, 40000.0, 50000.0, 60000.0, 70000.0, 80000.0])\n",
    "    ExpectedCellCount = GetCellCount( TimeVec, ParamVec[0], ParamVec[1] )\n",
    "    return np.sum( ExpectedCellCount - CellVec ) ** 2\n",
    "\n",
    "from scipy.optimize import fmin\n",
    "BestParam = fmin( getSumSquaredDiff, x0 = np.double([1,0]) )"
   ]
  },
  {
   "cell_type": "code",
   "execution_count": 2,
   "metadata": {},
   "outputs": [
    {
     "data": {
      "text/plain": [
       "array([ 3.26038839, -0.01704967])"
      ]
     },
     "execution_count": 2,
     "metadata": {},
     "output_type": "execute_result"
    }
   ],
   "source": [
    "BestParam"
   ]
  },
  {
   "cell_type": "code",
   "execution_count": null,
   "metadata": {},
   "outputs": [],
   "source": []
  }
 ],
 "metadata": {
  "kernelspec": {
   "display_name": "Python 3",
   "language": "python",
   "name": "python3"
  },
  "language_info": {
   "codemirror_mode": {
    "name": "ipython",
    "version": 3
   },
   "file_extension": ".py",
   "mimetype": "text/x-python",
   "name": "python",
   "nbconvert_exporter": "python",
   "pygments_lexer": "ipython3",
   "version": "3.6.4"
  }
 },
 "nbformat": 4,
 "nbformat_minor": 2
}
